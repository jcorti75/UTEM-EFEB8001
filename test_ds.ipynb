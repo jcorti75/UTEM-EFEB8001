{
 "cells": [
  {
   "cell_type": "code",
   "execution_count": 1,
   "metadata": {},
   "outputs": [
    {
     "name": "stdout",
     "output_type": "stream",
     "text": [
      "/home/pvasquh/Proyectos\r\n"
     ]
    }
   ],
   "source": [
    "!pwd"
   ]
  },
  {
   "cell_type": "markdown",
   "metadata": {},
   "source": [
    "# Estimating order times"
   ]
  },
  {
   "cell_type": "markdown",
   "metadata": {},
   "source": [
    "Cornershop has operations in several cities and countries, delivering thousands of orders every day. In order to deliver these orders on time we depend on good estimations of how much time the shopper needs to complete the order.\n",
    "\n",
    "**Objective**: Predict total duration of an order based on features regarding order, products, shopper and store information"
   ]
  },
  {
   "cell_type": "code",
   "execution_count": 2,
   "metadata": {},
   "outputs": [],
   "source": [
    "import pandas as pd\n",
    "import matplotlib.pyplot as plt\n",
    "import seaborn as sns\n",
    "import numpy as np\n",
    "from haversine import haversine\n",
    "import datetime\n",
    "from sklearn.decomposition import TruncatedSVD\n",
    "from sklearn.ensemble import RandomForestClassifier\n",
    "\n",
    "%config InlineBackend.figure_format='retina'\n",
    "%matplotlib inline"
   ]
  },
  {
   "cell_type": "markdown",
   "metadata": {},
   "source": [
    "### Order information"
   ]
  },
  {
   "cell_type": "code",
   "execution_count": 3,
   "metadata": {
    "scrolled": false
   },
   "outputs": [
    {
     "data": {
      "text/html": [
       "<div>\n",
       "<style scoped>\n",
       "    .dataframe tbody tr th:only-of-type {\n",
       "        vertical-align: middle;\n",
       "    }\n",
       "\n",
       "    .dataframe tbody tr th {\n",
       "        vertical-align: top;\n",
       "    }\n",
       "\n",
       "    .dataframe thead th {\n",
       "        text-align: right;\n",
       "    }\n",
       "</style>\n",
       "<table border=\"1\" class=\"dataframe\">\n",
       "  <thead>\n",
       "    <tr style=\"text-align: right;\">\n",
       "      <th></th>\n",
       "      <th>order_id</th>\n",
       "      <th>product_id</th>\n",
       "      <th>quantity</th>\n",
       "      <th>buy_unit</th>\n",
       "    </tr>\n",
       "  </thead>\n",
       "  <tbody>\n",
       "    <tr>\n",
       "      <th>0</th>\n",
       "      <td>47099653730fb1b76537fc10ad876255</td>\n",
       "      <td>c1244453d731c77416cb4766e3bd76cb</td>\n",
       "      <td>1.0</td>\n",
       "      <td>UN</td>\n",
       "    </tr>\n",
       "    <tr>\n",
       "      <th>1</th>\n",
       "      <td>689d8866915acf87e851c2591a23a82f</td>\n",
       "      <td>43cc2b100bec640fe563cd16f2db669f</td>\n",
       "      <td>1.0</td>\n",
       "      <td>KG</td>\n",
       "    </tr>\n",
       "    <tr>\n",
       "      <th>2</th>\n",
       "      <td>f26d16bf6f38c9e31d0be877f4013a9e</td>\n",
       "      <td>b8f880759d014134e272d881d49989a2</td>\n",
       "      <td>1.0</td>\n",
       "      <td>UN</td>\n",
       "    </tr>\n",
       "    <tr>\n",
       "      <th>3</th>\n",
       "      <td>161ccc896835ab41761b0e726becb6b1</td>\n",
       "      <td>dbc062b9bef805d27a6f4bea7edfe1f1</td>\n",
       "      <td>1.0</td>\n",
       "      <td>UN</td>\n",
       "    </tr>\n",
       "    <tr>\n",
       "      <th>4</th>\n",
       "      <td>4713deca10bb5db98fae150b52d61fc0</td>\n",
       "      <td>93a060f269bb569398921100f84c519a</td>\n",
       "      <td>2.0</td>\n",
       "      <td>UN</td>\n",
       "    </tr>\n",
       "  </tbody>\n",
       "</table>\n",
       "</div>"
      ],
      "text/plain": [
       "                           order_id                        product_id  \\\n",
       "0  47099653730fb1b76537fc10ad876255  c1244453d731c77416cb4766e3bd76cb   \n",
       "1  689d8866915acf87e851c2591a23a82f  43cc2b100bec640fe563cd16f2db669f   \n",
       "2  f26d16bf6f38c9e31d0be877f4013a9e  b8f880759d014134e272d881d49989a2   \n",
       "3  161ccc896835ab41761b0e726becb6b1  dbc062b9bef805d27a6f4bea7edfe1f1   \n",
       "4  4713deca10bb5db98fae150b52d61fc0  93a060f269bb569398921100f84c519a   \n",
       "\n",
       "   quantity buy_unit  \n",
       "0       1.0       UN  \n",
       "1       1.0       KG  \n",
       "2       1.0       UN  \n",
       "3       1.0       UN  \n",
       "4       2.0       UN  "
      ]
     },
     "execution_count": 3,
     "metadata": {},
     "output_type": "execute_result"
    }
   ],
   "source": [
    "order_products = pd.read_csv('data/order_products.csv')\n",
    "order_products.head(5)"
   ]
  },
  {
   "cell_type": "code",
   "execution_count": 4,
   "metadata": {},
   "outputs": [
    {
     "data": {
      "text/plain": [
       "(198500, 4)"
      ]
     },
     "execution_count": 4,
     "metadata": {},
     "output_type": "execute_result"
    }
   ],
   "source": [
    "order_products.shape"
   ]
  },
  {
   "cell_type": "code",
   "execution_count": 5,
   "metadata": {
    "scrolled": false
   },
   "outputs": [
    {
     "data": {
      "text/plain": [
       "9978"
      ]
     },
     "execution_count": 5,
     "metadata": {},
     "output_type": "execute_result"
    }
   ],
   "source": [
    "order_products.order_id.nunique()"
   ]
  },
  {
   "cell_type": "code",
   "execution_count": 6,
   "metadata": {},
   "outputs": [
    {
     "data": {
      "text/plain": [
       "15422"
      ]
     },
     "execution_count": 6,
     "metadata": {},
     "output_type": "execute_result"
    }
   ],
   "source": [
    "order_products.product_id.nunique()"
   ]
  },
  {
   "cell_type": "markdown",
   "metadata": {},
   "source": [
    "We have product information from 9,978 orders in total. There are 15,422 total products in this dataset."
   ]
  },
  {
   "cell_type": "code",
   "execution_count": 7,
   "metadata": {
    "scrolled": true
   },
   "outputs": [
    {
     "data": {
      "text/plain": [
       "array(['UN', 'KG'], dtype=object)"
      ]
     },
     "execution_count": 7,
     "metadata": {},
     "output_type": "execute_result"
    }
   ],
   "source": [
    "order_products.buy_unit.unique()"
   ]
  },
  {
   "cell_type": "markdown",
   "metadata": {},
   "source": [
    "Products can be measured in units or kilograms."
   ]
  },
  {
   "cell_type": "code",
   "execution_count": 8,
   "metadata": {
    "scrolled": true
   },
   "outputs": [
    {
     "data": {
      "text/html": [
       "<div>\n",
       "<style scoped>\n",
       "    .dataframe tbody tr th:only-of-type {\n",
       "        vertical-align: middle;\n",
       "    }\n",
       "\n",
       "    .dataframe tbody tr th {\n",
       "        vertical-align: top;\n",
       "    }\n",
       "\n",
       "    .dataframe thead th {\n",
       "        text-align: right;\n",
       "    }\n",
       "</style>\n",
       "<table border=\"1\" class=\"dataframe\">\n",
       "  <thead>\n",
       "    <tr style=\"text-align: right;\">\n",
       "      <th></th>\n",
       "      <th>order_id</th>\n",
       "      <th>lat</th>\n",
       "      <th>lng</th>\n",
       "      <th>promised_time</th>\n",
       "      <th>on_demand</th>\n",
       "      <th>shopper_id</th>\n",
       "      <th>store_branch_id</th>\n",
       "      <th>total_minutes</th>\n",
       "    </tr>\n",
       "  </thead>\n",
       "  <tbody>\n",
       "    <tr>\n",
       "      <th>0</th>\n",
       "      <td>e750294655c2c7c34d83cc3181c09de4</td>\n",
       "      <td>-33.501675</td>\n",
       "      <td>-70.579369</td>\n",
       "      <td>2019-10-18 20:48:00+00:00</td>\n",
       "      <td>True</td>\n",
       "      <td>e63bc83a1a952fa2b3cc9d558fb943cf</td>\n",
       "      <td>65ded5353c5ee48d0b7d48c591b8f430</td>\n",
       "      <td>67.684264</td>\n",
       "    </tr>\n",
       "    <tr>\n",
       "      <th>1</th>\n",
       "      <td>6581174846221cb6c467348e87f57641</td>\n",
       "      <td>-33.440584</td>\n",
       "      <td>-70.556283</td>\n",
       "      <td>2019-10-19 01:00:00+00:00</td>\n",
       "      <td>False</td>\n",
       "      <td>195f9e9d84a4ba9033c4b6a756334d8b</td>\n",
       "      <td>45fbc6d3e05ebd93369ce542e8f2322d</td>\n",
       "      <td>57.060632</td>\n",
       "    </tr>\n",
       "    <tr>\n",
       "      <th>2</th>\n",
       "      <td>3a226ea48debc0a7ae9950d5540f2f34</td>\n",
       "      <td>-32.987022</td>\n",
       "      <td>-71.544842</td>\n",
       "      <td>2019-10-19 14:54:00+00:00</td>\n",
       "      <td>True</td>\n",
       "      <td>a5b9ddc0d82e61582fca19ad43dbaacb</td>\n",
       "      <td>07563a3fe3bbe7e3ba84431ad9d055af</td>\n",
       "      <td>NaN</td>\n",
       "    </tr>\n",
       "    <tr>\n",
       "      <th>3</th>\n",
       "      <td>7d2ed03fe4966083e74b12694b1669d8</td>\n",
       "      <td>-33.328075</td>\n",
       "      <td>-70.512659</td>\n",
       "      <td>2019-10-18 21:47:00+00:00</td>\n",
       "      <td>True</td>\n",
       "      <td>d0b3f6bf7e249e5ebb8d3129341773a2</td>\n",
       "      <td>f1748d6b0fd9d439f71450117eba2725</td>\n",
       "      <td>52.067742</td>\n",
       "    </tr>\n",
       "    <tr>\n",
       "      <th>4</th>\n",
       "      <td>b4b2682d77118155fe4716300ccf7f39</td>\n",
       "      <td>-33.403239</td>\n",
       "      <td>-70.564020</td>\n",
       "      <td>2019-10-19 20:00:00+00:00</td>\n",
       "      <td>False</td>\n",
       "      <td>5c5199ce02f7b77caa9c2590a39ad27d</td>\n",
       "      <td>1f0e3dad99908345f7439f8ffabdffc4</td>\n",
       "      <td>140.724822</td>\n",
       "    </tr>\n",
       "  </tbody>\n",
       "</table>\n",
       "</div>"
      ],
      "text/plain": [
       "                           order_id        lat        lng  \\\n",
       "0  e750294655c2c7c34d83cc3181c09de4 -33.501675 -70.579369   \n",
       "1  6581174846221cb6c467348e87f57641 -33.440584 -70.556283   \n",
       "2  3a226ea48debc0a7ae9950d5540f2f34 -32.987022 -71.544842   \n",
       "3  7d2ed03fe4966083e74b12694b1669d8 -33.328075 -70.512659   \n",
       "4  b4b2682d77118155fe4716300ccf7f39 -33.403239 -70.564020   \n",
       "\n",
       "               promised_time  on_demand                        shopper_id  \\\n",
       "0  2019-10-18 20:48:00+00:00       True  e63bc83a1a952fa2b3cc9d558fb943cf   \n",
       "1  2019-10-19 01:00:00+00:00      False  195f9e9d84a4ba9033c4b6a756334d8b   \n",
       "2  2019-10-19 14:54:00+00:00       True  a5b9ddc0d82e61582fca19ad43dbaacb   \n",
       "3  2019-10-18 21:47:00+00:00       True  d0b3f6bf7e249e5ebb8d3129341773a2   \n",
       "4  2019-10-19 20:00:00+00:00      False  5c5199ce02f7b77caa9c2590a39ad27d   \n",
       "\n",
       "                    store_branch_id  total_minutes  \n",
       "0  65ded5353c5ee48d0b7d48c591b8f430      67.684264  \n",
       "1  45fbc6d3e05ebd93369ce542e8f2322d      57.060632  \n",
       "2  07563a3fe3bbe7e3ba84431ad9d055af            NaN  \n",
       "3  f1748d6b0fd9d439f71450117eba2725      52.067742  \n",
       "4  1f0e3dad99908345f7439f8ffabdffc4     140.724822  "
      ]
     },
     "execution_count": 8,
     "metadata": {},
     "output_type": "execute_result"
    }
   ],
   "source": [
    "orders = pd.read_csv('data/orders.csv')\n",
    "orders.head()"
   ]
  },
  {
   "cell_type": "code",
   "execution_count": 9,
   "metadata": {
    "scrolled": true
   },
   "outputs": [
    {
     "data": {
      "text/plain": [
       "(10000, 8)"
      ]
     },
     "execution_count": 9,
     "metadata": {},
     "output_type": "execute_result"
    }
   ],
   "source": [
    "orders.shape"
   ]
  },
  {
   "cell_type": "markdown",
   "metadata": {},
   "source": [
    "We have data for 10,000 orders, which means we will have missing product values for 22 orders. We will only work with orders for which we have product information."
   ]
  },
  {
   "cell_type": "code",
   "execution_count": 10,
   "metadata": {},
   "outputs": [],
   "source": [
    "orders_with_info_ids = order_products.order_id.unique()"
   ]
  },
  {
   "cell_type": "code",
   "execution_count": 11,
   "metadata": {},
   "outputs": [
    {
     "data": {
      "text/plain": [
       "(9978,)"
      ]
     },
     "execution_count": 11,
     "metadata": {},
     "output_type": "execute_result"
    }
   ],
   "source": [
    "orders_with_info_ids.shape"
   ]
  },
  {
   "cell_type": "code",
   "execution_count": 12,
   "metadata": {},
   "outputs": [],
   "source": [
    "orders = orders[orders.order_id.isin(orders_with_info_ids)]"
   ]
  },
  {
   "cell_type": "code",
   "execution_count": 13,
   "metadata": {},
   "outputs": [
    {
     "data": {
      "text/plain": [
       "(9978, 8)"
      ]
     },
     "execution_count": 13,
     "metadata": {},
     "output_type": "execute_result"
    }
   ],
   "source": [
    "orders.shape"
   ]
  },
  {
   "cell_type": "markdown",
   "metadata": {},
   "source": [
    "### Exploring the target values"
   ]
  },
  {
   "cell_type": "code",
   "execution_count": 14,
   "metadata": {
    "scrolled": true
   },
   "outputs": [
    {
     "data": {
      "text/plain": [
       "<matplotlib.axes._subplots.AxesSubplot at 0x7fbdf071e400>"
      ]
     },
     "execution_count": 14,
     "metadata": {},
     "output_type": "execute_result"
    },
    {
     "data": {
      "image/png": "[encoded data removed]",
      "text/plain": [
       "<Figure size 432x288 with 1 Axes>"
      ]
     },
     "metadata": {
      "image/png": {
       "height": 250,
       "width": 377
      },
      "needs_background": "light"
     },
     "output_type": "display_data"
    }
   ],
   "source": [
    "orders.total_minutes.hist(grid=False, bins=50)"
   ]
  },
  {
   "cell_type": "markdown",
   "metadata": {},
   "source": [
    "Initially, one might think that since there are small and large orders, the total time distribution could be bimodal. However, a simple histogram shows that the majority of orders take less than two hours to complete."
   ]
  },
  {
   "cell_type": "markdown",
   "metadata": {},
   "source": [
    "### Determining order size"
   ]
  },
  {
   "cell_type": "code",
   "execution_count": 15,
   "metadata": {
    "scrolled": true
   },
   "outputs": [
    {
     "data": {
      "text/plain": [
       "count    180654.000000\n",
       "mean          1.908333\n",
       "std           1.964279\n",
       "min           1.000000\n",
       "25%           1.000000\n",
       "50%           1.000000\n",
       "75%           2.000000\n",
       "max         100.000000\n",
       "Name: quantity, dtype: float64"
      ]
     },
     "execution_count": 15,
     "metadata": {},
     "output_type": "execute_result"
    }
   ],
   "source": [
    "order_products[order_products.buy_unit=='UN'].quantity.describe()"
   ]
  },
  {
   "cell_type": "code",
   "execution_count": 16,
   "metadata": {},
   "outputs": [
    {
     "data": {
      "text/plain": [
       "count    17846.000000\n",
       "mean         0.971702\n",
       "std          0.728834\n",
       "min          0.055000\n",
       "25%          0.498000\n",
       "50%          0.835000\n",
       "75%          1.200000\n",
       "max         16.250000\n",
       "Name: quantity, dtype: float64"
      ]
     },
     "execution_count": 16,
     "metadata": {},
     "output_type": "execute_result"
    }
   ],
   "source": [
    "order_products[order_products.buy_unit=='KG'].quantity.describe()"
   ]
  },
  {
   "cell_type": "markdown",
   "metadata": {},
   "source": [
    "Since we have two units of measure for the products within a basket, we must find a way to determine how many kg of a product equals one unit. As we have no information regarding the size of the portions, we will use the median of the kilograms ordered for each product."
   ]
  },
  {
   "cell_type": "code",
   "execution_count": 17,
   "metadata": {},
   "outputs": [],
   "source": [
    "product_median = order_products.groupby('product_id').quantity.median()"
   ]
  },
  {
   "cell_type": "code",
   "execution_count": 18,
   "metadata": {},
   "outputs": [],
   "source": [
    "order_products = pd.merge(order_products, product_median, on='product_id', how='left', suffixes=('', '_median'))"
   ]
  },
  {
   "cell_type": "code",
   "execution_count": 19,
   "metadata": {},
   "outputs": [
    {
     "data": {
      "text/html": [
       "<div>\n",
       "<style scoped>\n",
       "    .dataframe tbody tr th:only-of-type {\n",
       "        vertical-align: middle;\n",
       "    }\n",
       "\n",
       "    .dataframe tbody tr th {\n",
       "        vertical-align: top;\n",
       "    }\n",
       "\n",
       "    .dataframe thead th {\n",
       "        text-align: right;\n",
       "    }\n",
       "</style>\n",
       "<table border=\"1\" class=\"dataframe\">\n",
       "  <thead>\n",
       "    <tr style=\"text-align: right;\">\n",
       "      <th></th>\n",
       "      <th>order_id</th>\n",
       "      <th>product_id</th>\n",
       "      <th>quantity</th>\n",
       "      <th>buy_unit</th>\n",
       "      <th>quantity_median</th>\n",
       "      <th>quantity_conv</th>\n",
       "    </tr>\n",
       "  </thead>\n",
       "  <tbody>\n",
       "    <tr>\n",
       "      <th>0</th>\n",
       "      <td>47099653730fb1b76537fc10ad876255</td>\n",
       "      <td>c1244453d731c77416cb4766e3bd76cb</td>\n",
       "      <td>1.000</td>\n",
       "      <td>UN</td>\n",
       "      <td>1.00</td>\n",
       "      <td>1.00</td>\n",
       "    </tr>\n",
       "    <tr>\n",
       "      <th>1</th>\n",
       "      <td>689d8866915acf87e851c2591a23a82f</td>\n",
       "      <td>43cc2b100bec640fe563cd16f2db669f</td>\n",
       "      <td>1.000</td>\n",
       "      <td>KG</td>\n",
       "      <td>1.00</td>\n",
       "      <td>1.00</td>\n",
       "    </tr>\n",
       "    <tr>\n",
       "      <th>2</th>\n",
       "      <td>f26d16bf6f38c9e31d0be877f4013a9e</td>\n",
       "      <td>b8f880759d014134e272d881d49989a2</td>\n",
       "      <td>1.000</td>\n",
       "      <td>UN</td>\n",
       "      <td>1.00</td>\n",
       "      <td>1.00</td>\n",
       "    </tr>\n",
       "    <tr>\n",
       "      <th>3</th>\n",
       "      <td>161ccc896835ab41761b0e726becb6b1</td>\n",
       "      <td>dbc062b9bef805d27a6f4bea7edfe1f1</td>\n",
       "      <td>1.000</td>\n",
       "      <td>UN</td>\n",
       "      <td>1.00</td>\n",
       "      <td>1.00</td>\n",
       "    </tr>\n",
       "    <tr>\n",
       "      <th>4</th>\n",
       "      <td>4713deca10bb5db98fae150b52d61fc0</td>\n",
       "      <td>93a060f269bb569398921100f84c519a</td>\n",
       "      <td>2.000</td>\n",
       "      <td>UN</td>\n",
       "      <td>2.00</td>\n",
       "      <td>2.00</td>\n",
       "    </tr>\n",
       "    <tr>\n",
       "      <th>5</th>\n",
       "      <td>742c8318bd4b691ef21517372e12eb14</td>\n",
       "      <td>3692fe3fc98b55a7f41b70e24c5e70f1</td>\n",
       "      <td>1.000</td>\n",
       "      <td>UN</td>\n",
       "      <td>1.00</td>\n",
       "      <td>1.00</td>\n",
       "    </tr>\n",
       "    <tr>\n",
       "      <th>6</th>\n",
       "      <td>4bf1d742d2aaa747c8e42074306776c6</td>\n",
       "      <td>af43ffd0ff63a72e50e7340a382bcfb6</td>\n",
       "      <td>1.000</td>\n",
       "      <td>UN</td>\n",
       "      <td>1.00</td>\n",
       "      <td>1.00</td>\n",
       "    </tr>\n",
       "    <tr>\n",
       "      <th>7</th>\n",
       "      <td>a8b56b2aba8e0c2609b1e70fff2c1951</td>\n",
       "      <td>bdcc4590896a0d0b419d0388fd16a859</td>\n",
       "      <td>0.885</td>\n",
       "      <td>KG</td>\n",
       "      <td>1.18</td>\n",
       "      <td>0.75</td>\n",
       "    </tr>\n",
       "    <tr>\n",
       "      <th>8</th>\n",
       "      <td>63d745ef282dfeee0a89b5c8e4e79acb</td>\n",
       "      <td>07baf42dfefb6ed87312007dddab125e</td>\n",
       "      <td>1.000</td>\n",
       "      <td>UN</td>\n",
       "      <td>1.00</td>\n",
       "      <td>1.00</td>\n",
       "    </tr>\n",
       "    <tr>\n",
       "      <th>9</th>\n",
       "      <td>bea1786439523ef6973ec8395231e713</td>\n",
       "      <td>f387d33f0f968f1005e9ef45b66266c6</td>\n",
       "      <td>1.000</td>\n",
       "      <td>UN</td>\n",
       "      <td>2.00</td>\n",
       "      <td>1.00</td>\n",
       "    </tr>\n",
       "  </tbody>\n",
       "</table>\n",
       "</div>"
      ],
      "text/plain": [
       "                           order_id                        product_id  \\\n",
       "0  47099653730fb1b76537fc10ad876255  c1244453d731c77416cb4766e3bd76cb   \n",
       "1  689d8866915acf87e851c2591a23a82f  43cc2b100bec640fe563cd16f2db669f   \n",
       "2  f26d16bf6f38c9e31d0be877f4013a9e  b8f880759d014134e272d881d49989a2   \n",
       "3  161ccc896835ab41761b0e726becb6b1  dbc062b9bef805d27a6f4bea7edfe1f1   \n",
       "4  4713deca10bb5db98fae150b52d61fc0  93a060f269bb569398921100f84c519a   \n",
       "5  742c8318bd4b691ef21517372e12eb14  3692fe3fc98b55a7f41b70e24c5e70f1   \n",
       "6  4bf1d742d2aaa747c8e42074306776c6  af43ffd0ff63a72e50e7340a382bcfb6   \n",
       "7  a8b56b2aba8e0c2609b1e70fff2c1951  bdcc4590896a0d0b419d0388fd16a859   \n",
       "8  63d745ef282dfeee0a89b5c8e4e79acb  07baf42dfefb6ed87312007dddab125e   \n",
       "9  bea1786439523ef6973ec8395231e713  f387d33f0f968f1005e9ef45b66266c6   \n",
       "\n",
       "   quantity buy_unit  quantity_median  quantity_conv  \n",
       "0     1.000       UN             1.00           1.00  \n",
       "1     1.000       KG             1.00           1.00  \n",
       "2     1.000       UN             1.00           1.00  \n",
       "3     1.000       UN             1.00           1.00  \n",
       "4     2.000       UN             2.00           2.00  \n",
       "5     1.000       UN             1.00           1.00  \n",
       "6     1.000       UN             1.00           1.00  \n",
       "7     0.885       KG             1.18           0.75  \n",
       "8     1.000       UN             1.00           1.00  \n",
       "9     1.000       UN             2.00           1.00  "
      ]
     },
     "execution_count": 19,
     "metadata": {},
     "output_type": "execute_result"
    }
   ],
   "source": [
    "order_products['quantity_conv'] = order_products.apply(lambda row: (row.quantity/row.quantity_median) if row.buy_unit=='KG' else row.quantity, axis=1)\n",
    "order_products.head(10)"
   ]
  },
  {
   "cell_type": "code",
   "execution_count": 20,
   "metadata": {
    "scrolled": true
   },
   "outputs": [
    {
     "data": {
      "text/plain": [
       "count    198500.000000\n",
       "mean          1.838652\n",
       "std           1.897635\n",
       "min           0.080000\n",
       "25%           1.000000\n",
       "50%           1.000000\n",
       "75%           2.000000\n",
       "max         100.000000\n",
       "Name: quantity_conv, dtype: float64"
      ]
     },
     "execution_count": 20,
     "metadata": {},
     "output_type": "execute_result"
    }
   ],
   "source": [
    "order_products.quantity_conv.describe()"
   ]
  },
  {
   "cell_type": "markdown",
   "metadata": {},
   "source": [
    "The majority of products are bought in less than two units. Now we can calculate the total size of the basket."
   ]
  },
  {
   "cell_type": "code",
   "execution_count": 21,
   "metadata": {},
   "outputs": [],
   "source": [
    "order_size = order_products.groupby('order_id')['quantity_conv'].sum()"
   ]
  },
  {
   "cell_type": "code",
   "execution_count": 22,
   "metadata": {},
   "outputs": [
    {
     "data": {
      "image/png": "[encoded data removed]",
      "text/plain": [
       "<Figure size 432x288 with 1 Axes>"
      ]
     },
     "metadata": {
      "image/png": {
       "height": 263,
       "width": 388
      },
      "needs_background": "light"
     },
     "output_type": "display_data"
    }
   ],
   "source": [
    "order_size.hist(grid=False)\n",
    "plt.title('Distribution of total quantity of products per order')\n",
    "\n",
    "sns.despine()\n",
    "plt.show()"
   ]
  },
  {
   "cell_type": "markdown",
   "metadata": {},
   "source": [
    "We wonder if there is a relationship between order size and total duration."
   ]
  },
  {
   "cell_type": "code",
   "execution_count": 23,
   "metadata": {},
   "outputs": [],
   "source": [
    "orders = pd.merge(orders, order_size, on='order_id', how='left')"
   ]
  },
  {
   "cell_type": "code",
   "execution_count": 24,
   "metadata": {},
   "outputs": [
    {
     "data": {
      "image/png": "[encoded data removed]",
      "text/plain": [
       "<Figure size 432x288 with 1 Axes>"
      ]
     },
     "metadata": {
      "image/png": {
       "height": 278,
       "width": 394
      },
      "needs_background": "light"
     },
     "output_type": "display_data"
    }
   ],
   "source": [
    "plt.scatter(orders.total_minutes, orders.quantity_conv)\n",
    "plt.xlabel('Total Minutes')\n",
    "plt.ylabel('Total Order Size')\n",
    "plt.yscale('log')\n",
    "plt.xscale('log')\n",
    "plt.title('Duration vs Order Size')\n",
    "sns.despine()\n",
    "plt.show()"
   ]
  },
  {
   "cell_type": "code",
   "execution_count": 25,
   "metadata": {},
   "outputs": [],
   "source": [
    "#order_products = order_products[~order_products.order_id.isin(orders_predict_ids)]"
   ]
  },
  {
   "cell_type": "code",
   "execution_count": 26,
   "metadata": {},
   "outputs": [],
   "source": [
    "orders['product_n'] = order_products.groupby('order_id')['product_id'].count().values"
   ]
  },
  {
   "cell_type": "code",
   "execution_count": 27,
   "metadata": {},
   "outputs": [],
   "source": [
    "orders['product_metcalfe'] = orders['product_n'] ** 2"
   ]
  },
  {
   "cell_type": "markdown",
   "metadata": {},
   "source": [
    "### Analyzing Order Times"
   ]
  },
  {
   "cell_type": "code",
   "execution_count": 28,
   "metadata": {
    "scrolled": true
   },
   "outputs": [
    {
     "data": {
      "text/plain": [
       "dtype('O')"
      ]
     },
     "execution_count": 28,
     "metadata": {},
     "output_type": "execute_result"
    }
   ],
   "source": [
    "orders.promised_time.dtype"
   ]
  },
  {
   "cell_type": "code",
   "execution_count": 29,
   "metadata": {},
   "outputs": [],
   "source": [
    "orders['promised_time'] = pd.to_datetime(orders.promised_time)\n",
    "orders['promised_time_hour'] = orders.promised_time.dt.hour"
   ]
  },
  {
   "cell_type": "code",
   "execution_count": 30,
   "metadata": {},
   "outputs": [],
   "source": [
    "orders['order_time'] = orders.promised_time - datetime.timedelta(minutes=90)\n",
    "orders['order_time_hour'] = orders.order_time.dt.hour"
   ]
  },
  {
   "cell_type": "markdown",
   "metadata": {},
   "source": [
    "It would be of interest to determine how many times we are able to deliver within the promised time. For this, we need to determine the time the order was placed. We will assume that promised time is a maximum of 90 minutes after the order was done."
   ]
  },
  {
   "cell_type": "code",
   "execution_count": 31,
   "metadata": {},
   "outputs": [
    {
     "data": {
      "image/png": "[encoded data removed]",
      "text/plain": [
       "<Figure size 720x288 with 1 Axes>"
      ]
     },
     "metadata": {
      "image/png": {
       "height": 263,
       "width": 624
      },
      "needs_background": "light"
     },
     "output_type": "display_data"
    }
   ],
   "source": [
    "orders.order_time_hour.value_counts().sort_index().plot(figsize=(10,4))\n",
    "plt.xticks(range(0,24))\n",
    "plt.xlabel('Time of Order')\n",
    "plt.ylabel('Number of Orders')\n",
    "sns.despine()"
   ]
  },
  {
   "cell_type": "markdown",
   "metadata": {},
   "source": [
    "Ordering time has its peaks between 14:00 and 15:00 and then at 18:00. Is there any relation between ordering times and total minutes?"
   ]
  },
  {
   "cell_type": "code",
   "execution_count": 32,
   "metadata": {},
   "outputs": [
    {
     "data": {
      "image/png": "[encoded data removed]",
      "text/plain": [
       "<Figure size 432x288 with 1 Axes>"
      ]
     },
     "metadata": {
      "image/png": {
       "height": 277,
       "width": 384
      },
      "needs_background": "light"
     },
     "output_type": "display_data"
    }
   ],
   "source": [
    "sns.pointplot(data=orders, x='order_time_hour', y='total_minutes')\n",
    "plt.xlabel('Time of Day')\n",
    "plt.ylabel('Total Duration')\n",
    "\n",
    "plt.title('Order Time of Day vs Duration')\n",
    "sns.despine()\n",
    "plt.show()"
   ]
  },
  {
   "cell_type": "code",
   "execution_count": 33,
   "metadata": {},
   "outputs": [],
   "source": [
    "orders['order_time_dayofweek'] = orders.order_time.dt.dayofweek"
   ]
  },
  {
   "cell_type": "code",
   "execution_count": 34,
   "metadata": {},
   "outputs": [
    {
     "data": {
      "text/plain": [
       "array([4, 5])"
      ]
     },
     "execution_count": 34,
     "metadata": {},
     "output_type": "execute_result"
    }
   ],
   "source": [
    "orders.order_time_dayofweek.unique()"
   ]
  },
  {
   "cell_type": "code",
   "execution_count": 35,
   "metadata": {},
   "outputs": [],
   "source": [
    "orders['is_weekday'] = np.where(orders['order_time_dayofweek']<5, 1, 0)"
   ]
  },
  {
   "cell_type": "code",
   "execution_count": 36,
   "metadata": {},
   "outputs": [],
   "source": [
    "orders['is_weekend'] = np.where(orders['order_time_dayofweek']>=5, 1, 0)"
   ]
  },
  {
   "cell_type": "code",
   "execution_count": 37,
   "metadata": {},
   "outputs": [],
   "source": [
    "orders['month'] = orders.order_time.dt.month"
   ]
  },
  {
   "cell_type": "code",
   "execution_count": 38,
   "metadata": {},
   "outputs": [],
   "source": [
    "orders['dayofmonth'] = orders.order_time.dt.days_in_month"
   ]
  },
  {
   "cell_type": "code",
   "execution_count": 39,
   "metadata": {
    "scrolled": true
   },
   "outputs": [
    {
     "data": {
      "text/plain": [
       "<matplotlib.axes._subplots.AxesSubplot at 0x7fbdef17e8d0>"
      ]
     },
     "execution_count": 39,
     "metadata": {},
     "output_type": "execute_result"
    },
    {
     "data": {
      "image/png": "[encoded data removed]",
      "text/plain": [
       "<Figure size 432x288 with 1 Axes>"
      ]
     },
     "metadata": {
      "image/png": {
       "height": 264,
       "width": 391
      },
      "needs_background": "light"
     },
     "output_type": "display_data"
    }
   ],
   "source": [
    "sns.boxplot(x=orders[\"on_demand\"], y=orders[\"total_minutes\"] )"
   ]
  },
  {
   "cell_type": "code",
   "execution_count": 40,
   "metadata": {},
   "outputs": [],
   "source": []
  },
  {
   "cell_type": "markdown",
   "metadata": {},
   "source": [
    "#### Distance order-shop"
   ]
  },
  {
   "cell_type": "markdown",
   "metadata": {},
   "source": [
    "##### Shortest path"
   ]
  },
  {
   "cell_type": "code",
   "execution_count": 41,
   "metadata": {
    "scrolled": true
   },
   "outputs": [
    {
     "data": {
      "text/html": [
       "<div>\n",
       "<style scoped>\n",
       "    .dataframe tbody tr th:only-of-type {\n",
       "        vertical-align: middle;\n",
       "    }\n",
       "\n",
       "    .dataframe tbody tr th {\n",
       "        vertical-align: top;\n",
       "    }\n",
       "\n",
       "    .dataframe thead th {\n",
       "        text-align: right;\n",
       "    }\n",
       "</style>\n",
       "<table border=\"1\" class=\"dataframe\">\n",
       "  <thead>\n",
       "    <tr style=\"text-align: right;\">\n",
       "      <th></th>\n",
       "      <th>store_branch_id</th>\n",
       "      <th>store_id</th>\n",
       "      <th>lat</th>\n",
       "      <th>lng</th>\n",
       "    </tr>\n",
       "  </thead>\n",
       "  <tbody>\n",
       "    <tr>\n",
       "      <th>0</th>\n",
       "      <td>aff1621254f7c1be92f64550478c56e6</td>\n",
       "      <td>92cc227532d17e56e07902b254dfad10</td>\n",
       "      <td>-33.422497</td>\n",
       "      <td>-70.609231</td>\n",
       "    </tr>\n",
       "    <tr>\n",
       "      <th>1</th>\n",
       "      <td>56352739f59643540a3a6e16985f62c7</td>\n",
       "      <td>0336dcbab05b9d5ad24f4333c7658a0e</td>\n",
       "      <td>-33.385484</td>\n",
       "      <td>-70.555579</td>\n",
       "    </tr>\n",
       "    <tr>\n",
       "      <th>2</th>\n",
       "      <td>7d04bbbe5494ae9d2f5a76aa1c00fa2f</td>\n",
       "      <td>9bf31c7ff062936a96d3c8bd1f8f2ff3</td>\n",
       "      <td>-33.416579</td>\n",
       "      <td>-70.565224</td>\n",
       "    </tr>\n",
       "    <tr>\n",
       "      <th>3</th>\n",
       "      <td>2b24d495052a8ce66358eb576b8912c8</td>\n",
       "      <td>c4ca4238a0b923820dcc509a6f75849b</td>\n",
       "      <td>-33.512578</td>\n",
       "      <td>-70.655952</td>\n",
       "    </tr>\n",
       "    <tr>\n",
       "      <th>4</th>\n",
       "      <td>5487315b1286f907165907aa8fc96619</td>\n",
       "      <td>d82c8d1619ad8176d665453cfb2e55f0</td>\n",
       "      <td>-33.347645</td>\n",
       "      <td>-70.542229</td>\n",
       "    </tr>\n",
       "  </tbody>\n",
       "</table>\n",
       "</div>"
      ],
      "text/plain": [
       "                    store_branch_id                          store_id  \\\n",
       "0  aff1621254f7c1be92f64550478c56e6  92cc227532d17e56e07902b254dfad10   \n",
       "1  56352739f59643540a3a6e16985f62c7  0336dcbab05b9d5ad24f4333c7658a0e   \n",
       "2  7d04bbbe5494ae9d2f5a76aa1c00fa2f  9bf31c7ff062936a96d3c8bd1f8f2ff3   \n",
       "3  2b24d495052a8ce66358eb576b8912c8  c4ca4238a0b923820dcc509a6f75849b   \n",
       "4  5487315b1286f907165907aa8fc96619  d82c8d1619ad8176d665453cfb2e55f0   \n",
       "\n",
       "         lat        lng  \n",
       "0 -33.422497 -70.609231  \n",
       "1 -33.385484 -70.555579  \n",
       "2 -33.416579 -70.565224  \n",
       "3 -33.512578 -70.655952  \n",
       "4 -33.347645 -70.542229  "
      ]
     },
     "execution_count": 41,
     "metadata": {},
     "output_type": "execute_result"
    }
   ],
   "source": [
    "store_branch = pd.read_csv('data/storebranch.csv')\n",
    "store_branch.head()"
   ]
  },
  {
   "cell_type": "code",
   "execution_count": 42,
   "metadata": {},
   "outputs": [],
   "source": [
    "orders['destination_point'] = orders[['lat', 'lng']].apply(tuple, axis=1)\n",
    "store_branch['origin_point'] = store_branch[['lat', 'lng']].apply(tuple, axis=1)"
   ]
  },
  {
   "cell_type": "code",
   "execution_count": 43,
   "metadata": {},
   "outputs": [],
   "source": [
    "order_store = pd.merge(orders[['order_id', 'store_branch_id', 'destination_point']], store_branch[['store_id', 'store_branch_id', 'origin_point']], on='store_branch_id', how='left')"
   ]
  },
  {
   "cell_type": "code",
   "execution_count": 44,
   "metadata": {},
   "outputs": [],
   "source": [
    "orders['distance'] = order_store.apply(lambda x: haversine(x.origin_point, x.destination_point), axis=1)"
   ]
  },
  {
   "cell_type": "code",
   "execution_count": 45,
   "metadata": {},
   "outputs": [
    {
     "data": {
      "text/plain": [
       "<matplotlib.axes._subplots.AxesSubplot at 0x7fbdec714278>"
      ]
     },
     "execution_count": 45,
     "metadata": {},
     "output_type": "execute_result"
    },
    {
     "data": {
      "image/png": "[encoded data removed]",
      "text/plain": [
       "<Figure size 432x288 with 1 Axes>"
      ]
     },
     "metadata": {
      "image/png": {
       "height": 250,
       "width": 392
      },
      "needs_background": "light"
     },
     "output_type": "display_data"
    }
   ],
   "source": [
    "orders.distance.hist(grid=False)"
   ]
  },
  {
   "cell_type": "code",
   "execution_count": 46,
   "metadata": {},
   "outputs": [
    {
     "data": {
      "image/png": "[encoded data removed]",
      "text/plain": [
       "<Figure size 432x288 with 1 Axes>"
      ]
     },
     "metadata": {
      "image/png": {
       "height": 278,
       "width": 394
      },
      "needs_background": "light"
     },
     "output_type": "display_data"
    }
   ],
   "source": [
    "plt.scatter(orders.total_minutes, orders.distance)\n",
    "plt.xlabel('Total Minutes')\n",
    "plt.ylabel('Total Distance')\n",
    "plt.yscale('log')\n",
    "plt.xscale('log')\n",
    "plt.title('Duration vs Distance')\n",
    "plt.show()"
   ]
  },
  {
   "cell_type": "code",
   "execution_count": 47,
   "metadata": {},
   "outputs": [],
   "source": [
    "store_branch_dummies = order_store.set_index('order_id').store_branch_id.str.get_dummies()"
   ]
  },
  {
   "cell_type": "code",
   "execution_count": 48,
   "metadata": {},
   "outputs": [],
   "source": [
    "store_dummies = order_store.set_index('order_id').store_id.str.get_dummies()"
   ]
  },
  {
   "cell_type": "markdown",
   "metadata": {},
   "source": [
    "#### Creating product features"
   ]
  },
  {
   "cell_type": "code",
   "execution_count": 49,
   "metadata": {},
   "outputs": [],
   "source": [
    "encoded_order_product = order_products.pivot_table(index='order_id', columns='product_id', values='quantity_conv', fill_value=0)"
   ]
  },
  {
   "cell_type": "code",
   "execution_count": 107,
   "metadata": {
    "scrolled": true
   },
   "outputs": [
    {
     "data": {
      "text/plain": [
       "(9978, 15422)"
      ]
     },
     "execution_count": 107,
     "metadata": {},
     "output_type": "execute_result"
    }
   ],
   "source": [
    "encoded_order_product.shape"
   ]
  },
  {
   "cell_type": "code",
   "execution_count": 105,
   "metadata": {},
   "outputs": [],
   "source": [
    "orders_model = orders.dropna(subset=['total_minutes'])\n",
    "orders_model_ids = orders_model.reset_index().order_id"
   ]
  },
  {
   "cell_type": "code",
   "execution_count": 106,
   "metadata": {},
   "outputs": [
    {
     "data": {
      "text/plain": [
       "(7983,)"
      ]
     },
     "execution_count": 106,
     "metadata": {},
     "output_type": "execute_result"
    }
   ],
   "source": [
    "orders_model_ids.shape"
   ]
  },
  {
   "cell_type": "code",
   "execution_count": 53,
   "metadata": {},
   "outputs": [
    {
     "data": {
      "text/plain": [
       "(7983, 15422)"
      ]
     },
     "execution_count": 53,
     "metadata": {},
     "output_type": "execute_result"
    }
   ],
   "source": [
    "#df = encoded_order_product\n",
    "#encoded_orders = df[df.index.isin(orders_model_ids)]\n",
    "#encoded_orders.shape"
   ]
  },
  {
   "cell_type": "code",
   "execution_count": 108,
   "metadata": {},
   "outputs": [
    {
     "data": {
      "text/plain": [
       "TfidfTransformer(norm='l2', smooth_idf=True, sublinear_tf=False, use_idf=True)"
      ]
     },
     "execution_count": 108,
     "metadata": {},
     "output_type": "execute_result"
    }
   ],
   "source": [
    "from sklearn.feature_extraction.text import TfidfTransformer\n",
    "tfidf_transformer=TfidfTransformer(smooth_idf=True,use_idf=True)\n",
    "tfidf_transformer.fit(encoded_order_product)"
   ]
  },
  {
   "cell_type": "code",
   "execution_count": 109,
   "metadata": {},
   "outputs": [],
   "source": [
    "feature_names_df = order_products.product_id.unique()"
   ]
  },
  {
   "cell_type": "code",
   "execution_count": 110,
   "metadata": {},
   "outputs": [
    {
     "data": {
      "text/plain": [
       "(15422,)"
      ]
     },
     "execution_count": 110,
     "metadata": {},
     "output_type": "execute_result"
    }
   ],
   "source": [
    "feature_names_df.shape"
   ]
  },
  {
   "cell_type": "code",
   "execution_count": 111,
   "metadata": {},
   "outputs": [],
   "source": [
    "df_idf = pd.DataFrame(tfidf_transformer.idf_, index=feature_names_df, columns=[\"idf_weights\"])"
   ]
  },
  {
   "cell_type": "code",
   "execution_count": 117,
   "metadata": {},
   "outputs": [],
   "source": [
    "tf_idf_vector=tfidf_transformer.transform(encoded_order_product)"
   ]
  },
  {
   "cell_type": "code",
   "execution_count": 118,
   "metadata": {},
   "outputs": [
    {
     "data": {
      "text/plain": [
       "<9978x15422 sparse matrix of type '<class 'numpy.float64'>'\n",
       "\twith 198500 stored elements in Compressed Sparse Row format>"
      ]
     },
     "execution_count": 118,
     "metadata": {},
     "output_type": "execute_result"
    }
   ],
   "source": [
    "tf_idf_vector"
   ]
  },
  {
   "cell_type": "code",
   "execution_count": 119,
   "metadata": {},
   "outputs": [],
   "source": [
    "X = np.array(tf_idf_vector.todense())"
   ]
  },
  {
   "cell_type": "code",
   "execution_count": 120,
   "metadata": {
    "scrolled": true
   },
   "outputs": [
    {
     "name": "stdout",
     "output_type": "stream",
     "text": [
      "[[ 1.09432320e-02 -6.95775439e-03  3.08865726e-03 ... -9.94823432e-04\n",
      "   3.21675361e-03 -1.65697627e-03]\n",
      " [-2.92089461e-08 -3.04131878e-06 -1.16877517e-05 ...  4.26484955e-05\n",
      "  -2.38553944e-05  5.06969392e-05]\n",
      " [ 3.47437464e-02 -1.21232301e-02 -6.40037760e-03 ... -3.71202105e-03\n",
      "  -1.04075439e-02  8.33521735e-04]\n",
      " ...\n",
      " [ 4.06636863e-02 -1.46489854e-02 -1.96231244e-02 ... -1.63642229e-04\n",
      "  -5.81972514e-03  1.74838834e-02]\n",
      " [ 1.06822854e-01 -4.23919629e-02 -4.87567151e-02 ... -4.57159511e-02\n",
      "  -1.28169812e-02 -3.61384762e-02]\n",
      " [ 4.85452291e-02 -1.70970052e-02 -1.86602131e-02 ... -7.45656304e-03\n",
      "  -9.45819211e-03  9.29541089e-03]]\n"
     ]
    }
   ],
   "source": [
    "# svd\n",
    "svd = TruncatedSVD(n_components=10)\n",
    "svd.fit(X)\n",
    "result = svd.transform(X)\n",
    "print(result)"
   ]
  },
  {
   "cell_type": "code",
   "execution_count": 174,
   "metadata": {},
   "outputs": [
    {
     "data": {
      "text/plain": [
       "(9978, 10)"
      ]
     },
     "execution_count": 174,
     "metadata": {},
     "output_type": "execute_result"
    }
   ],
   "source": [
    "result.shape"
   ]
  },
  {
   "cell_type": "code",
   "execution_count": 175,
   "metadata": {},
   "outputs": [],
   "source": [
    "svd_results = pd.DataFrame(result, columns=['feature_1', 'feature_2', 'feature_3', 'feature_4', 'feature_5', 'feature_6', 'feature_7', 'feature_8', 'feature_9', 'feature_10'])"
   ]
  },
  {
   "cell_type": "markdown",
   "metadata": {},
   "source": [
    "### Shopper information"
   ]
  },
  {
   "cell_type": "code",
   "execution_count": 64,
   "metadata": {
    "scrolled": true
   },
   "outputs": [
    {
     "data": {
      "text/html": [
       "<div>\n",
       "<style scoped>\n",
       "    .dataframe tbody tr th:only-of-type {\n",
       "        vertical-align: middle;\n",
       "    }\n",
       "\n",
       "    .dataframe tbody tr th {\n",
       "        vertical-align: top;\n",
       "    }\n",
       "\n",
       "    .dataframe thead th {\n",
       "        text-align: right;\n",
       "    }\n",
       "</style>\n",
       "<table border=\"1\" class=\"dataframe\">\n",
       "  <thead>\n",
       "    <tr style=\"text-align: right;\">\n",
       "      <th></th>\n",
       "      <th>shopper_id</th>\n",
       "      <th>seniority</th>\n",
       "      <th>found_rate</th>\n",
       "      <th>picking_speed</th>\n",
       "      <th>accepted_rate</th>\n",
       "      <th>rating</th>\n",
       "    </tr>\n",
       "  </thead>\n",
       "  <tbody>\n",
       "    <tr>\n",
       "      <th>0</th>\n",
       "      <td>1fc20b0bdf697ac13dd6a15cbd2fe60a</td>\n",
       "      <td>41dc7c9e385c4d2b6c1f7836973951bf</td>\n",
       "      <td>0.8606</td>\n",
       "      <td>1.94</td>\n",
       "      <td>1.00</td>\n",
       "      <td>4.87</td>\n",
       "    </tr>\n",
       "    <tr>\n",
       "      <th>1</th>\n",
       "      <td>e1c679ac73a69c01981fdd3c5ab8beda</td>\n",
       "      <td>6c90661e6d2c7579f5ce337c3391dbb9</td>\n",
       "      <td>0.8446</td>\n",
       "      <td>1.23</td>\n",
       "      <td>0.92</td>\n",
       "      <td>4.92</td>\n",
       "    </tr>\n",
       "    <tr>\n",
       "      <th>2</th>\n",
       "      <td>09d369c66ca86ebeffacb133410c5ee1</td>\n",
       "      <td>6c90661e6d2c7579f5ce337c3391dbb9</td>\n",
       "      <td>0.8559</td>\n",
       "      <td>1.56</td>\n",
       "      <td>1.00</td>\n",
       "      <td>4.88</td>\n",
       "    </tr>\n",
       "    <tr>\n",
       "      <th>3</th>\n",
       "      <td>db39866e62b95bb04ebb1e470f2d1347</td>\n",
       "      <td>50e13ee63f086c2fe84229348bc91b5b</td>\n",
       "      <td>NaN</td>\n",
       "      <td>2.41</td>\n",
       "      <td>NaN</td>\n",
       "      <td>NaN</td>\n",
       "    </tr>\n",
       "    <tr>\n",
       "      <th>4</th>\n",
       "      <td>8efbc238660053b19f00ca431144fdae</td>\n",
       "      <td>6c90661e6d2c7579f5ce337c3391dbb9</td>\n",
       "      <td>0.8770</td>\n",
       "      <td>1.31</td>\n",
       "      <td>0.92</td>\n",
       "      <td>4.88</td>\n",
       "    </tr>\n",
       "  </tbody>\n",
       "</table>\n",
       "</div>"
      ],
      "text/plain": [
       "                         shopper_id                         seniority  \\\n",
       "0  1fc20b0bdf697ac13dd6a15cbd2fe60a  41dc7c9e385c4d2b6c1f7836973951bf   \n",
       "1  e1c679ac73a69c01981fdd3c5ab8beda  6c90661e6d2c7579f5ce337c3391dbb9   \n",
       "2  09d369c66ca86ebeffacb133410c5ee1  6c90661e6d2c7579f5ce337c3391dbb9   \n",
       "3  db39866e62b95bb04ebb1e470f2d1347  50e13ee63f086c2fe84229348bc91b5b   \n",
       "4  8efbc238660053b19f00ca431144fdae  6c90661e6d2c7579f5ce337c3391dbb9   \n",
       "\n",
       "   found_rate  picking_speed  accepted_rate  rating  \n",
       "0      0.8606           1.94           1.00    4.87  \n",
       "1      0.8446           1.23           0.92    4.92  \n",
       "2      0.8559           1.56           1.00    4.88  \n",
       "3         NaN           2.41            NaN     NaN  \n",
       "4      0.8770           1.31           0.92    4.88  "
      ]
     },
     "execution_count": 64,
     "metadata": {},
     "output_type": "execute_result"
    }
   ],
   "source": [
    "shoppers = pd.read_csv('data/shoppers.csv')\n",
    "shoppers.head()"
   ]
  },
  {
   "cell_type": "code",
   "execution_count": 65,
   "metadata": {},
   "outputs": [
    {
     "data": {
      "text/plain": [
       "2864"
      ]
     },
     "execution_count": 65,
     "metadata": {},
     "output_type": "execute_result"
    }
   ],
   "source": [
    "shoppers.shopper_id.nunique()"
   ]
  },
  {
   "cell_type": "code",
   "execution_count": 66,
   "metadata": {
    "scrolled": true
   },
   "outputs": [
    {
     "data": {
      "text/plain": [
       "array(['41dc7c9e385c4d2b6c1f7836973951bf',\n",
       "       '6c90661e6d2c7579f5ce337c3391dbb9',\n",
       "       '50e13ee63f086c2fe84229348bc91b5b',\n",
       "       'bb29b8d0d196b5db5a5350e5e3ae2b1f'], dtype=object)"
      ]
     },
     "execution_count": 66,
     "metadata": {},
     "output_type": "execute_result"
    }
   ],
   "source": [
    "shoppers.seniority.unique()"
   ]
  },
  {
   "cell_type": "code",
   "execution_count": 67,
   "metadata": {},
   "outputs": [
    {
     "data": {
      "text/plain": [
       "Index(['shopper_id', 'seniority', 'found_rate', 'picking_speed',\n",
       "       'accepted_rate', 'rating'],\n",
       "      dtype='object')"
      ]
     },
     "execution_count": 67,
     "metadata": {},
     "output_type": "execute_result"
    }
   ],
   "source": [
    "shoppers.columns"
   ]
  },
  {
   "cell_type": "code",
   "execution_count": 68,
   "metadata": {},
   "outputs": [
    {
     "data": {
      "text/html": [
       "<div>\n",
       "<style scoped>\n",
       "    .dataframe tbody tr th:only-of-type {\n",
       "        vertical-align: middle;\n",
       "    }\n",
       "\n",
       "    .dataframe tbody tr th {\n",
       "        vertical-align: top;\n",
       "    }\n",
       "\n",
       "    .dataframe thead th {\n",
       "        text-align: right;\n",
       "    }\n",
       "</style>\n",
       "<table border=\"1\" class=\"dataframe\">\n",
       "  <thead>\n",
       "    <tr style=\"text-align: right;\">\n",
       "      <th></th>\n",
       "      <th>found_rate</th>\n",
       "      <th>picking_speed</th>\n",
       "      <th>accepted_rate</th>\n",
       "      <th>rating</th>\n",
       "    </tr>\n",
       "  </thead>\n",
       "  <tbody>\n",
       "    <tr>\n",
       "      <th>count</th>\n",
       "      <td>2763.000000</td>\n",
       "      <td>2864.000000</td>\n",
       "      <td>2837.000000</td>\n",
       "      <td>2780.000000</td>\n",
       "    </tr>\n",
       "    <tr>\n",
       "      <th>mean</th>\n",
       "      <td>0.861082</td>\n",
       "      <td>1.762392</td>\n",
       "      <td>0.908276</td>\n",
       "      <td>4.848428</td>\n",
       "    </tr>\n",
       "    <tr>\n",
       "      <th>std</th>\n",
       "      <td>0.031038</td>\n",
       "      <td>0.665962</td>\n",
       "      <td>0.107911</td>\n",
       "      <td>0.133011</td>\n",
       "    </tr>\n",
       "    <tr>\n",
       "      <th>min</th>\n",
       "      <td>0.737300</td>\n",
       "      <td>0.650000</td>\n",
       "      <td>0.240000</td>\n",
       "      <td>3.880000</td>\n",
       "    </tr>\n",
       "    <tr>\n",
       "      <th>25%</th>\n",
       "      <td>0.842900</td>\n",
       "      <td>1.290000</td>\n",
       "      <td>0.880000</td>\n",
       "      <td>4.800000</td>\n",
       "    </tr>\n",
       "    <tr>\n",
       "      <th>50%</th>\n",
       "      <td>0.863900</td>\n",
       "      <td>1.580000</td>\n",
       "      <td>0.944444</td>\n",
       "      <td>4.880000</td>\n",
       "    </tr>\n",
       "    <tr>\n",
       "      <th>75%</th>\n",
       "      <td>0.881950</td>\n",
       "      <td>2.120000</td>\n",
       "      <td>1.000000</td>\n",
       "      <td>4.960000</td>\n",
       "    </tr>\n",
       "    <tr>\n",
       "      <th>max</th>\n",
       "      <td>0.971000</td>\n",
       "      <td>7.040000</td>\n",
       "      <td>1.000000</td>\n",
       "      <td>5.000000</td>\n",
       "    </tr>\n",
       "  </tbody>\n",
       "</table>\n",
       "</div>"
      ],
      "text/plain": [
       "        found_rate  picking_speed  accepted_rate       rating\n",
       "count  2763.000000    2864.000000    2837.000000  2780.000000\n",
       "mean      0.861082       1.762392       0.908276     4.848428\n",
       "std       0.031038       0.665962       0.107911     0.133011\n",
       "min       0.737300       0.650000       0.240000     3.880000\n",
       "25%       0.842900       1.290000       0.880000     4.800000\n",
       "50%       0.863900       1.580000       0.944444     4.880000\n",
       "75%       0.881950       2.120000       1.000000     4.960000\n",
       "max       0.971000       7.040000       1.000000     5.000000"
      ]
     },
     "execution_count": 68,
     "metadata": {},
     "output_type": "execute_result"
    }
   ],
   "source": [
    "shoppers.describe()"
   ]
  },
  {
   "cell_type": "code",
   "execution_count": 69,
   "metadata": {},
   "outputs": [
    {
     "data": {
      "text/plain": [
       "<matplotlib.axes._subplots.AxesSubplot at 0x7fbdefe96470>"
      ]
     },
     "execution_count": 69,
     "metadata": {},
     "output_type": "execute_result"
    },
    {
     "data": {
      "image/png": "[encoded data removed]",
      "text/plain": [
       "<Figure size 432x288 with 1 Axes>"
      ]
     },
     "metadata": {
      "image/png": {
       "height": 250,
       "width": 383
      },
      "needs_background": "light"
     },
     "output_type": "display_data"
    }
   ],
   "source": [
    "shoppers.rating.hist()"
   ]
  },
  {
   "cell_type": "code",
   "execution_count": 70,
   "metadata": {},
   "outputs": [
    {
     "data": {
      "text/plain": [
       "shopper_id         0\n",
       "seniority          0\n",
       "found_rate       101\n",
       "picking_speed      0\n",
       "accepted_rate     27\n",
       "rating            84\n",
       "dtype: int64"
      ]
     },
     "execution_count": 70,
     "metadata": {},
     "output_type": "execute_result"
    }
   ],
   "source": [
    "shoppers.isna().sum()"
   ]
  },
  {
   "cell_type": "code",
   "execution_count": 71,
   "metadata": {},
   "outputs": [
    {
     "data": {
      "text/plain": [
       "<matplotlib.axes._subplots.AxesSubplot at 0x7fbdef1bcc88>"
      ]
     },
     "execution_count": 71,
     "metadata": {},
     "output_type": "execute_result"
    },
    {
     "data": {
      "image/png": "[encoded data removed]",
      "text/plain": [
       "<Figure size 432x288 with 1 Axes>"
      ]
     },
     "metadata": {
      "image/png": {
       "height": 250,
       "width": 383
      },
      "needs_background": "light"
     },
     "output_type": "display_data"
    }
   ],
   "source": [
    "shoppers.rating.hist(grid=False)"
   ]
  },
  {
   "cell_type": "code",
   "execution_count": 72,
   "metadata": {
    "scrolled": true
   },
   "outputs": [
    {
     "data": {
      "text/html": [
       "<div>\n",
       "<style scoped>\n",
       "    .dataframe tbody tr th:only-of-type {\n",
       "        vertical-align: middle;\n",
       "    }\n",
       "\n",
       "    .dataframe tbody tr th {\n",
       "        vertical-align: top;\n",
       "    }\n",
       "\n",
       "    .dataframe thead th {\n",
       "        text-align: right;\n",
       "    }\n",
       "</style>\n",
       "<table border=\"1\" class=\"dataframe\">\n",
       "  <thead>\n",
       "    <tr style=\"text-align: right;\">\n",
       "      <th></th>\n",
       "      <th>count</th>\n",
       "      <th>mean</th>\n",
       "      <th>std</th>\n",
       "      <th>min</th>\n",
       "      <th>25%</th>\n",
       "      <th>50%</th>\n",
       "      <th>75%</th>\n",
       "      <th>max</th>\n",
       "    </tr>\n",
       "    <tr>\n",
       "      <th>seniority</th>\n",
       "      <th></th>\n",
       "      <th></th>\n",
       "      <th></th>\n",
       "      <th></th>\n",
       "      <th></th>\n",
       "      <th></th>\n",
       "      <th></th>\n",
       "      <th></th>\n",
       "    </tr>\n",
       "  </thead>\n",
       "  <tbody>\n",
       "    <tr>\n",
       "      <th>41dc7c9e385c4d2b6c1f7836973951bf</th>\n",
       "      <td>440.0</td>\n",
       "      <td>2.239227</td>\n",
       "      <td>0.554820</td>\n",
       "      <td>0.95</td>\n",
       "      <td>2.00</td>\n",
       "      <td>2.22</td>\n",
       "      <td>2.5025</td>\n",
       "      <td>7.04</td>\n",
       "    </tr>\n",
       "    <tr>\n",
       "      <th>50e13ee63f086c2fe84229348bc91b5b</th>\n",
       "      <td>719.0</td>\n",
       "      <td>2.272156</td>\n",
       "      <td>0.822574</td>\n",
       "      <td>0.65</td>\n",
       "      <td>1.67</td>\n",
       "      <td>2.17</td>\n",
       "      <td>2.6950</td>\n",
       "      <td>6.11</td>\n",
       "    </tr>\n",
       "    <tr>\n",
       "      <th>6c90661e6d2c7579f5ce337c3391dbb9</th>\n",
       "      <td>1643.0</td>\n",
       "      <td>1.392307</td>\n",
       "      <td>0.264627</td>\n",
       "      <td>0.73</td>\n",
       "      <td>1.20</td>\n",
       "      <td>1.37</td>\n",
       "      <td>1.5700</td>\n",
       "      <td>2.00</td>\n",
       "    </tr>\n",
       "    <tr>\n",
       "      <th>bb29b8d0d196b5db5a5350e5e3ae2b1f</th>\n",
       "      <td>62.0</td>\n",
       "      <td>2.274032</td>\n",
       "      <td>0.304999</td>\n",
       "      <td>2.00</td>\n",
       "      <td>2.19</td>\n",
       "      <td>2.19</td>\n",
       "      <td>2.1900</td>\n",
       "      <td>3.95</td>\n",
       "    </tr>\n",
       "  </tbody>\n",
       "</table>\n",
       "</div>"
      ],
      "text/plain": [
       "                                   count      mean       std   min   25%  \\\n",
       "seniority                                                                  \n",
       "41dc7c9e385c4d2b6c1f7836973951bf   440.0  2.239227  0.554820  0.95  2.00   \n",
       "50e13ee63f086c2fe84229348bc91b5b   719.0  2.272156  0.822574  0.65  1.67   \n",
       "6c90661e6d2c7579f5ce337c3391dbb9  1643.0  1.392307  0.264627  0.73  1.20   \n",
       "bb29b8d0d196b5db5a5350e5e3ae2b1f    62.0  2.274032  0.304999  2.00  2.19   \n",
       "\n",
       "                                   50%     75%   max  \n",
       "seniority                                             \n",
       "41dc7c9e385c4d2b6c1f7836973951bf  2.22  2.5025  7.04  \n",
       "50e13ee63f086c2fe84229348bc91b5b  2.17  2.6950  6.11  \n",
       "6c90661e6d2c7579f5ce337c3391dbb9  1.37  1.5700  2.00  \n",
       "bb29b8d0d196b5db5a5350e5e3ae2b1f  2.19  2.1900  3.95  "
      ]
     },
     "execution_count": 72,
     "metadata": {},
     "output_type": "execute_result"
    }
   ],
   "source": [
    "shoppers.groupby('seniority').describe()['picking_speed']"
   ]
  },
  {
   "cell_type": "code",
   "execution_count": 73,
   "metadata": {},
   "outputs": [],
   "source": [
    "from sklearn.impute import SimpleImputer\n",
    "imp = SimpleImputer(strategy=\"mean\")\n",
    "shopper_feat_rev = imp.fit_transform(shoppers.set_index('shopper_id')[['found_rate', 'picking_speed', 'accepted_rate', 'rating']])"
   ]
  },
  {
   "cell_type": "code",
   "execution_count": 74,
   "metadata": {},
   "outputs": [],
   "source": [
    "shopper_feat_rev = pd.DataFrame(shopper_feat_rev, columns=['found_rate_n', 'picking_speed_n', 'accepted_rate_n', 'rating_n'])"
   ]
  },
  {
   "cell_type": "code",
   "execution_count": 75,
   "metadata": {},
   "outputs": [],
   "source": [
    "shoppers = pd.concat([shoppers, shopper_feat_rev], axis=1)"
   ]
  },
  {
   "cell_type": "code",
   "execution_count": 76,
   "metadata": {},
   "outputs": [],
   "source": [
    "orders = pd.merge(orders, shoppers, on='shopper_id', how='left')"
   ]
  },
  {
   "cell_type": "code",
   "execution_count": 77,
   "metadata": {},
   "outputs": [
    {
     "data": {
      "text/plain": [
       "Index(['order_id', 'lat', 'lng', 'promised_time', 'on_demand', 'shopper_id',\n",
       "       'store_branch_id', 'total_minutes', 'quantity_conv', 'product_n',\n",
       "       'product_metcalfe', 'promised_time_hour', 'order_time',\n",
       "       'order_time_hour', 'order_time_dayofweek', 'is_weekday', 'is_weekend',\n",
       "       'month', 'dayofmonth', 'destination_point', 'distance', 'seniority',\n",
       "       'found_rate', 'picking_speed', 'accepted_rate', 'rating',\n",
       "       'found_rate_n', 'picking_speed_n', 'accepted_rate_n', 'rating_n'],\n",
       "      dtype='object')"
      ]
     },
     "execution_count": 77,
     "metadata": {},
     "output_type": "execute_result"
    }
   ],
   "source": [
    "orders.columns"
   ]
  },
  {
   "cell_type": "code",
   "execution_count": 78,
   "metadata": {},
   "outputs": [],
   "source": [
    "seniority_levels = orders.set_index('order_id').seniority.str.get_dummies()"
   ]
  },
  {
   "cell_type": "code",
   "execution_count": 79,
   "metadata": {},
   "outputs": [],
   "source": [
    "orders = pd.merge(orders, seniority_levels, on ='order_id', how='left')"
   ]
  },
  {
   "cell_type": "code",
   "execution_count": 80,
   "metadata": {},
   "outputs": [],
   "source": [
    "shopper_dummies = orders.set_index('order_id').shopper_id.str.get_dummies()"
   ]
  },
  {
   "cell_type": "code",
   "execution_count": 81,
   "metadata": {},
   "outputs": [],
   "source": [
    "orders['quantity_picking'] = orders['quantity_conv'] / orders['picking_speed']"
   ]
  },
  {
   "cell_type": "code",
   "execution_count": 82,
   "metadata": {},
   "outputs": [],
   "source": [
    "orders['product_n_picking'] = orders['product_n'] / orders['picking_speed']"
   ]
  },
  {
   "cell_type": "markdown",
   "metadata": {},
   "source": [
    "### Creating Feature Matrix"
   ]
  },
  {
   "cell_type": "code",
   "execution_count": 237,
   "metadata": {},
   "outputs": [],
   "source": [
    "feature_matrix = orders[['order_id', 'on_demand', 'quantity_conv', 'order_time_hour', 'is_weekday', 'order_time_dayofweek',\n",
    "                         'distance', 'is_weekend', 'promised_time_hour', \n",
    "       'found_rate_n', 'picking_speed_n', 'accepted_rate_n', 'rating_n',\n",
    "       '41dc7c9e385c4d2b6c1f7836973951bf', '50e13ee63f086c2fe84229348bc91b5b',\n",
    "       '6c90661e6d2c7579f5ce337c3391dbb9', 'bb29b8d0d196b5db5a5350e5e3ae2b1f', 'product_n', 'product_metcalfe', \n",
    "                         'month', 'dayofmonth', 'quantity_picking', 'product_n_picking']]"
   ]
  },
  {
   "cell_type": "code",
   "execution_count": 238,
   "metadata": {},
   "outputs": [],
   "source": [
    "feature_matrix = pd.concat([feature_matrix, svd_results], axis=1, ignore_index=True)"
   ]
  },
  {
   "cell_type": "code",
   "execution_count": 239,
   "metadata": {},
   "outputs": [
    {
     "data": {
      "text/plain": [
       "(9978, 33)"
      ]
     },
     "execution_count": 239,
     "metadata": {},
     "output_type": "execute_result"
    }
   ],
   "source": [
    "feature_matrix.shape"
   ]
  },
  {
   "cell_type": "code",
   "execution_count": 240,
   "metadata": {},
   "outputs": [],
   "source": [
    "feature_matrix.columns = ['order_id', 'on_demand', 'quantity_conv', 'order_time_hour', 'is_weekday', 'order_time_dayofweek',\n",
    "                         'distance', 'is_weekend', 'promised_time_hour', \n",
    "       'found_rate_n', 'picking_speed_n', 'accepted_rate_n', 'rating_n',\n",
    "       '41dc7c9e385c4d2b6c1f7836973951bf', '50e13ee63f086c2fe84229348bc91b5b',\n",
    "       '6c90661e6d2c7579f5ce337c3391dbb9', 'bb29b8d0d196b5db5a5350e5e3ae2b1f', 'product_n', 'product_metcalfe', \n",
    "                         'month', 'dayofmonth', 'quantity_picking', 'product_n_picking', 'feature_1', 'feature_2', 'feature_3', \n",
    "                          'feature_4', 'feature_5', 'feature_6', 'feature_7', 'feature_8', 'feature_9', 'feature_10']"
   ]
  },
  {
   "cell_type": "code",
   "execution_count": 241,
   "metadata": {},
   "outputs": [],
   "source": [
    "orders_predict = orders[orders['total_minutes'].isnull()]"
   ]
  },
  {
   "cell_type": "code",
   "execution_count": 242,
   "metadata": {
    "scrolled": true
   },
   "outputs": [
    {
     "data": {
      "text/plain": [
       "(1995, 36)"
      ]
     },
     "execution_count": 242,
     "metadata": {},
     "output_type": "execute_result"
    }
   ],
   "source": [
    "orders_predict.shape"
   ]
  },
  {
   "cell_type": "code",
   "execution_count": 243,
   "metadata": {},
   "outputs": [],
   "source": [
    "orders_predict_ids = orders_predict.order_id.unique()"
   ]
  },
  {
   "cell_type": "code",
   "execution_count": 244,
   "metadata": {},
   "outputs": [],
   "source": [
    "feature_matrix_model = feature_matrix[~feature_matrix.order_id.isin(orders_predict_ids)]"
   ]
  },
  {
   "cell_type": "code",
   "execution_count": 245,
   "metadata": {
    "scrolled": true
   },
   "outputs": [
    {
     "data": {
      "text/plain": [
       "(7983, 33)"
      ]
     },
     "execution_count": 245,
     "metadata": {},
     "output_type": "execute_result"
    }
   ],
   "source": [
    "feature_matrix_model.shape"
   ]
  },
  {
   "cell_type": "code",
   "execution_count": 246,
   "metadata": {},
   "outputs": [],
   "source": [
    "target_model = orders[~orders.order_id.isin(orders_predict_ids)]['total_minutes']"
   ]
  },
  {
   "cell_type": "code",
   "execution_count": 247,
   "metadata": {},
   "outputs": [
    {
     "data": {
      "text/plain": [
       "(7983,)"
      ]
     },
     "execution_count": 247,
     "metadata": {},
     "output_type": "execute_result"
    }
   ],
   "source": [
    "target_model.shape"
   ]
  },
  {
   "cell_type": "code",
   "execution_count": 248,
   "metadata": {},
   "outputs": [],
   "source": [
    "feature_list = list(feature_matrix_model.columns)"
   ]
  },
  {
   "cell_type": "code",
   "execution_count": 233,
   "metadata": {},
   "outputs": [],
   "source": [
    "from sklearn.model_selection import train_test_split"
   ]
  },
  {
   "cell_type": "code",
   "execution_count": 249,
   "metadata": {},
   "outputs": [],
   "source": [
    "train_features, test_features, train_labels, test_labels = train_test_split(feature_matrix_model.set_index('order_id'), target_model, test_size = 0.25, random_state = 42)"
   ]
  },
  {
   "cell_type": "code",
   "execution_count": 250,
   "metadata": {},
   "outputs": [
    {
     "name": "stdout",
     "output_type": "stream",
     "text": [
      "Training Features Shape: (5987, 32)\n",
      "Training Labels Shape: (5987,)\n",
      "Testing Features Shape: (1996, 32)\n",
      "Testing Labels Shape: (1996,)\n"
     ]
    }
   ],
   "source": [
    "print('Training Features Shape:', train_features.shape)\n",
    "print('Training Labels Shape:', train_labels.shape)\n",
    "print('Testing Features Shape:', test_features.shape)\n",
    "print('Testing Labels Shape:', test_labels.shape)"
   ]
  },
  {
   "cell_type": "code",
   "execution_count": 251,
   "metadata": {},
   "outputs": [
    {
     "data": {
      "text/plain": [
       "RandomForestRegressor(bootstrap=True, criterion='mae', max_depth=3,\n",
       "           max_features='auto', max_leaf_nodes=None,\n",
       "           min_impurity_decrease=0.0, min_impurity_split=None,\n",
       "           min_samples_leaf=1, min_samples_split=2,\n",
       "           min_weight_fraction_leaf=0.0, n_estimators=100, n_jobs=None,\n",
       "           oob_score=False, random_state=42, verbose=0, warm_start=False)"
      ]
     },
     "execution_count": 251,
     "metadata": {},
     "output_type": "execute_result"
    }
   ],
   "source": [
    "from sklearn.ensemble import RandomForestRegressor\n",
    "\n",
    "rf = RandomForestRegressor(n_estimators = 100, max_depth=3, criterion='mae', random_state = 42)\n",
    "rf.fit(train_features, train_labels)"
   ]
  },
  {
   "cell_type": "code",
   "execution_count": 252,
   "metadata": {
    "scrolled": true
   },
   "outputs": [
    {
     "name": "stdout",
     "output_type": "stream",
     "text": [
      "Mean Absolute Error: 20.86 degrees.\n",
      "Median Absolute Error: 16.45 degrees.\n"
     ]
    }
   ],
   "source": [
    "predictions = rf.predict(test_features)\n",
    "# Calculate the absolute errors\n",
    "errors = abs(predictions - test_labels)\n",
    "# Print out the mean absolute error (mae)\n",
    "print('Mean Absolute Error:', round(np.mean(errors), 2), 'degrees.')\n",
    "print('Median Absolute Error:', round(np.median(errors), 2), 'degrees.')"
   ]
  },
  {
   "cell_type": "code",
   "execution_count": 253,
   "metadata": {},
   "outputs": [
    {
     "data": {
      "text/plain": [
       "(array([800., 614., 302., 129.,  67.,  39.,  20.,  16.,   6.,   3.]),\n",
       " array([1.05339832e-02, 1.25343661e+01, 2.50581982e+01, 3.75820303e+01,\n",
       "        5.01058625e+01, 6.26296946e+01, 7.51535267e+01, 8.76773588e+01,\n",
       "        1.00201191e+02, 1.12725023e+02, 1.25248855e+02]),\n",
       " <a list of 10 Patch objects>)"
      ]
     },
     "execution_count": 253,
     "metadata": {},
     "output_type": "execute_result"
    },
    {
     "data": {
      "image/png": "[encoded data removed]",
      "text/plain": [
       "<Figure size 432x288 with 1 Axes>"
      ]
     },
     "metadata": {
      "image/png": {
       "height": 250,
       "width": 377
      },
      "needs_background": "light"
     },
     "output_type": "display_data"
    }
   ],
   "source": [
    "plt.hist(errors)"
   ]
  },
  {
   "cell_type": "code",
   "execution_count": 254,
   "metadata": {},
   "outputs": [
    {
     "name": "stdout",
     "output_type": "stream",
     "text": [
      "27.33 %.\n"
     ]
    }
   ],
   "source": [
    "# Calculate mean absolute percentage error (MAPE)\n",
    "mape = 100 * (errors / test_labels)\n",
    "# Calculate and display accuracy\n",
    "avg_mape = np.mean(mape)\n",
    "print(round(avg_mape, 2), '%.')"
   ]
  },
  {
   "cell_type": "code",
   "execution_count": 255,
   "metadata": {
    "scrolled": false
   },
   "outputs": [
    {
     "name": "stdout",
     "output_type": "stream",
     "text": [
      "Variable: on_demand            Importance: 0.83\n",
      "Variable: found_rate_n         Importance: 0.11\n",
      "Variable: order_id             Importance: 0.05\n",
      "Variable: order_time_dayofweek Importance: 0.02\n",
      "Variable: quantity_conv        Importance: 0.0\n",
      "Variable: order_time_hour      Importance: 0.0\n",
      "Variable: is_weekday           Importance: 0.0\n",
      "Variable: distance             Importance: 0.0\n",
      "Variable: is_weekend           Importance: 0.0\n",
      "Variable: promised_time_hour   Importance: 0.0\n",
      "Variable: picking_speed_n      Importance: 0.0\n",
      "Variable: accepted_rate_n      Importance: 0.0\n",
      "Variable: rating_n             Importance: 0.0\n",
      "Variable: 41dc7c9e385c4d2b6c1f7836973951bf Importance: 0.0\n",
      "Variable: 50e13ee63f086c2fe84229348bc91b5b Importance: 0.0\n",
      "Variable: 6c90661e6d2c7579f5ce337c3391dbb9 Importance: 0.0\n",
      "Variable: bb29b8d0d196b5db5a5350e5e3ae2b1f Importance: 0.0\n",
      "Variable: product_n            Importance: 0.0\n",
      "Variable: product_metcalfe     Importance: 0.0\n",
      "Variable: month                Importance: 0.0\n",
      "Variable: dayofmonth           Importance: 0.0\n",
      "Variable: quantity_picking     Importance: 0.0\n",
      "Variable: product_n_picking    Importance: 0.0\n",
      "Variable: feature_1            Importance: 0.0\n",
      "Variable: feature_2            Importance: 0.0\n",
      "Variable: feature_3            Importance: 0.0\n",
      "Variable: feature_4            Importance: 0.0\n",
      "Variable: feature_5            Importance: 0.0\n",
      "Variable: feature_6            Importance: 0.0\n",
      "Variable: feature_7            Importance: 0.0\n",
      "Variable: feature_8            Importance: 0.0\n",
      "Variable: feature_9            Importance: 0.0\n"
     ]
    }
   ],
   "source": [
    "# Get numerical feature importances\n",
    "importances = list(rf.feature_importances_)\n",
    "# List of tuples with variable and importance\n",
    "feature_importances = [(feature, round(importance, 2)) for feature, importance in zip(feature_list, importances)]\n",
    "# Sort the feature importances by most important first\n",
    "feature_importances = sorted(feature_importances, key = lambda x: x[1], reverse = True)\n",
    "# Print out the feature and importances \n",
    "[print('Variable: {:20} Importance: {}'.format(*pair)) for pair in feature_importances];"
   ]
  },
  {
   "cell_type": "markdown",
   "metadata": {},
   "source": [
    "### Model 2"
   ]
  },
  {
   "cell_type": "code",
   "execution_count": 256,
   "metadata": {},
   "outputs": [],
   "source": [
    "from scipy.stats import boxcox\n",
    "from scipy.special import inv_boxcox"
   ]
  },
  {
   "cell_type": "code",
   "execution_count": 264,
   "metadata": {},
   "outputs": [],
   "source": [
    "target_n,fitted_lambda = boxcox(target_model, lmbda=None)"
   ]
  },
  {
   "cell_type": "code",
   "execution_count": 265,
   "metadata": {},
   "outputs": [],
   "source": [
    "feature_list = list(feature_matrix.columns)"
   ]
  },
  {
   "cell_type": "code",
   "execution_count": 270,
   "metadata": {},
   "outputs": [],
   "source": [
    "train_features, test_features, train_labels, test_labels = train_test_split(feature_matrix_model.set_index('order_id'), target_n, test_size = 0.25, random_state = 42)"
   ]
  },
  {
   "cell_type": "code",
   "execution_count": 271,
   "metadata": {},
   "outputs": [
    {
     "name": "stdout",
     "output_type": "stream",
     "text": [
      "Training Features Shape: (5987, 32)\n",
      "Training Labels Shape: (5987,)\n",
      "Testing Features Shape: (1996, 32)\n",
      "Testing Labels Shape: (1996,)\n"
     ]
    }
   ],
   "source": [
    "print('Training Features Shape:', train_features.shape)\n",
    "print('Training Labels Shape:', train_labels.shape)\n",
    "print('Testing Features Shape:', test_features.shape)\n",
    "print('Testing Labels Shape:', test_labels.shape)"
   ]
  },
  {
   "cell_type": "code",
   "execution_count": 272,
   "metadata": {},
   "outputs": [
    {
     "data": {
      "text/plain": [
       "RandomForestRegressor(bootstrap=True, criterion='mse', max_depth=2,\n",
       "           max_features='auto', max_leaf_nodes=None,\n",
       "           min_impurity_decrease=0.0, min_impurity_split=None,\n",
       "           min_samples_leaf=1, min_samples_split=2,\n",
       "           min_weight_fraction_leaf=0.0, n_estimators=100, n_jobs=None,\n",
       "           oob_score=False, random_state=42, verbose=0, warm_start=False)"
      ]
     },
     "execution_count": 272,
     "metadata": {},
     "output_type": "execute_result"
    }
   ],
   "source": [
    "# Import the model we are using\n",
    "from sklearn.ensemble import RandomForestRegressor\n",
    "# Instantiate model with 1000 decision trees\n",
    "rf = RandomForestRegressor(n_estimators = 100, max_depth=2, random_state = 42)\n",
    "# Train the model on training data\n",
    "rf.fit(train_features, train_labels)"
   ]
  },
  {
   "cell_type": "code",
   "execution_count": 273,
   "metadata": {
    "scrolled": true
   },
   "outputs": [
    {
     "name": "stdout",
     "output_type": "stream",
     "text": [
      "Mean Absolute Error: 22.06 degrees.\n",
      "Median Absolute Error: 17.14 degrees.\n"
     ]
    }
   ],
   "source": [
    "# Use the forest's predict method on the test data\n",
    "predictions = rf.predict(test_features)\n",
    "# Calculate the absolute errors\n",
    "errors = abs(inv_boxcox(predictions,fitted_lambda) - inv_boxcox(test_labels,fitted_lambda))\n",
    "# Print out the mean absolute error (mae)\n",
    "print('Mean Absolute Error:', round(np.mean(errors), 2), 'degrees.')\n",
    "print('Median Absolute Error:', round(np.median(errors), 2), 'degrees.')"
   ]
  },
  {
   "cell_type": "code",
   "execution_count": 274,
   "metadata": {},
   "outputs": [
    {
     "name": "stdout",
     "output_type": "stream",
     "text": [
      "29.09 %.\n"
     ]
    }
   ],
   "source": [
    "# Calculate mean absolute percentage error (MAPE)\n",
    "mape = 100 * (errors / inv_boxcox(test_labels,fitted_lambda))\n",
    "# Calculate and display accuracy\n",
    "avg_mape = np.mean(mape)\n",
    "print(round(avg_mape, 2), '%.')"
   ]
  },
  {
   "cell_type": "code",
   "execution_count": 275,
   "metadata": {},
   "outputs": [
    {
     "name": "stdout",
     "output_type": "stream",
     "text": [
      "Mean Absolute Error: 22.16 degrees.\n",
      "Median Absolute Error: 17.63 degrees.\n"
     ]
    }
   ],
   "source": [
    "# Scores Train\n",
    "# Use the forest's predict method on the test data\n",
    "predictions = rf.predict(train_features)\n",
    "# Calculate the absolute errors\n",
    "errors = abs(inv_boxcox(predictions,fitted_lambda) - inv_boxcox(train_labels,fitted_lambda))\n",
    "# Print out the mean absolute error (mae)\n",
    "print('Mean Absolute Error:', round(np.mean(errors), 2), 'degrees.')\n",
    "print('Median Absolute Error:', round(np.median(errors), 2), 'degrees.')"
   ]
  },
  {
   "cell_type": "code",
   "execution_count": 276,
   "metadata": {},
   "outputs": [
    {
     "name": "stdout",
     "output_type": "stream",
     "text": [
      "29.57 %.\n"
     ]
    }
   ],
   "source": [
    "# Calculate mean absolute percentage error (MAPE)\n",
    "mape = 100 * (errors / inv_boxcox(train_labels,fitted_lambda))\n",
    "# Calculate and display accuracy\n",
    "avg_mape = np.mean(mape)\n",
    "print(round(avg_mape, 2), '%.')"
   ]
  },
  {
   "cell_type": "markdown",
   "metadata": {},
   "source": [
    "### Predicting "
   ]
  },
  {
   "cell_type": "code",
   "execution_count": 277,
   "metadata": {},
   "outputs": [],
   "source": [
    "feature_matrix_predict = feature_matrix[feature_matrix.order_id.isin(orders_predict_ids)]"
   ]
  },
  {
   "cell_type": "code",
   "execution_count": 278,
   "metadata": {},
   "outputs": [
    {
     "data": {
      "text/plain": [
       "(1995, 33)"
      ]
     },
     "execution_count": 278,
     "metadata": {},
     "output_type": "execute_result"
    }
   ],
   "source": [
    "feature_matrix_predict.shape"
   ]
  },
  {
   "cell_type": "code",
   "execution_count": 301,
   "metadata": {},
   "outputs": [],
   "source": [
    "predictions = rf.predict(feature_matrix_predict.set_index('order_id'))"
   ]
  },
  {
   "cell_type": "code",
   "execution_count": 302,
   "metadata": {},
   "outputs": [],
   "source": [
    "predictions = pd.DataFrame(inv_boxcox(predictions,fitted_lambda), columns=['total_minutes'])"
   ]
  },
  {
   "cell_type": "code",
   "execution_count": 303,
   "metadata": {
    "scrolled": true
   },
   "outputs": [],
   "source": [
    "predictions_df = pd.concat([orders_predict.reset_index()['order_id'], predictions], axis=1)"
   ]
  },
  {
   "cell_type": "code",
   "execution_count": 305,
   "metadata": {
    "scrolled": true
   },
   "outputs": [],
   "source": [
    "predictions_df.to_csv('predictions.csv')"
   ]
  },
  {
   "cell_type": "code",
   "execution_count": null,
   "metadata": {},
   "outputs": [],
   "source": []
  }
 ],
 "metadata": {
  "kernelspec": {
   "display_name": "Python 3",
   "language": "python",
   "name": "python3"
  },
  "language_info": {
   "codemirror_mode": {
    "name": "ipython",
    "version": 3
   },
   "file_extension": ".py",
   "mimetype": "text/x-python",
   "name": "python",
   "nbconvert_exporter": "python",
   "pygments_lexer": "ipython3",
   "version": "3.8.3"
  }
 },
 "nbformat": 4,
 "nbformat_minor": 4
}
